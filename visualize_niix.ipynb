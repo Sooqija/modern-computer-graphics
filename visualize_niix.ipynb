{
 "cells": [
  {
   "cell_type": "code",
   "execution_count": null,
   "metadata": {},
   "outputs": [],
   "source": [
    "import vtk\n",
    "import itk\n",
    "from vtkmodules.vtkCommonCore import vtkCommand\n",
    "filepath = \"../human_body.nii\""
   ]
  },
  {
   "cell_type": "code",
   "execution_count": 2,
   "metadata": {},
   "outputs": [
    {
     "name": "stdout",
     "output_type": "stream",
     "text": [
      "File: OK\n"
     ]
    }
   ],
   "source": [
    "# Read File\n",
    "if \".nii\" in filepath:\n",
    "    itk_image = itk.imread(filepath)\n",
    "    \n",
    "    print(f\"File: {('OK' if itk_image is not None else 'NOT OK')}\")"
   ]
  },
  {
   "cell_type": "code",
   "execution_count": 3,
   "metadata": {},
   "outputs": [
    {
     "name": "stdout",
     "output_type": "stream",
     "text": [
      "Filter: OK\n"
     ]
    }
   ],
   "source": [
    "# Applying filter\n",
    "itk_median_image = itk.median_image_filter(itk_image, radius=2)\n",
    "vtk_image = itk.vtk_image_from_image(itk_median_image)\n",
    "print(f\"Filter: {('OK' if vtk_image is not None else 'NOT OK')}\")"
   ]
  },
  {
   "cell_type": "code",
   "execution_count": 4,
   "metadata": {},
   "outputs": [
    {
     "name": "stdout",
     "output_type": "stream",
     "text": [
      "VTK Poly Data: OK\n"
     ]
    }
   ],
   "source": [
    "# VTK Image Data to VTK Poly Data\n",
    "marching_cubes = vtk.vtkMarchingCubes()\n",
    "marching_cubes.SetInputData(vtk_image)\n",
    "marching_cubes.SetValue(0, 100)\n",
    "marching_cubes.Update()\n",
    "print(f\"VTK Poly Data: {('OK' if marching_cubes.GetOutput() is not None else 'NOT OK')}\")"
   ]
  },
  {
   "cell_type": "code",
   "execution_count": 5,
   "metadata": {},
   "outputs": [
    {
     "name": "stdout",
     "output_type": "stream",
     "text": [
      "VTK contour filter: OK\n"
     ]
    }
   ],
   "source": [
    "# Applying VTK contour filter\n",
    "confilter = vtk.vtkPolyDataConnectivityFilter()\n",
    "confilter.SetInputData(marching_cubes.GetOutput())\n",
    "confilter.SetExtractionModeToLargestRegion()\n",
    "confilter.Update()\n",
    "print(f\"VTK contour filter: {('OK' if confilter.GetOutput() is not None else 'NOT OK')}\")"
   ]
  },
  {
   "cell_type": "code",
   "execution_count": 6,
   "metadata": {},
   "outputs": [],
   "source": [
    "# clipper\n",
    "plane = vtk.vtkPlane()\n",
    "clipper = vtk.vtkClipPolyData()\n",
    "clipper.SetClipFunction(plane)\n",
    "clipper.SetInputConnection(confilter.GetOutputPort())"
   ]
  },
  {
   "cell_type": "code",
   "execution_count": 7,
   "metadata": {},
   "outputs": [],
   "source": [
    "# Visualization pipeline\n",
    "mapper = vtk.vtkPolyDataMapper()\n",
    "mapper.SetInputConnection(clipper.GetOutputPort())\n",
    "actor = vtk.vtkActor()\n",
    "actor.SetMapper(mapper)\n",
    "\n",
    "renderer = vtk.vtkRenderer()\n",
    "ren_win = vtk.vtkRenderWindow()\n",
    "ren_win.AddRenderer(renderer)\n",
    "\n",
    "renderer.AddActor(actor)\n",
    "colors = vtk.vtkNamedColors()\n",
    "renderer.SetBackground(colors.GetColor3d('SlateGray'))\n",
    "\n",
    "iren = vtk.vtkRenderWindowInteractor()\n",
    "iren.SetRenderWindow(ren_win)"
   ]
  },
  {
   "cell_type": "code",
   "execution_count": 8,
   "metadata": {},
   "outputs": [],
   "source": [
    "# Implicit plane widget\n",
    "class IPWCallback:\n",
    "    def __init__(self, plane):\n",
    "        self.plane = plane\n",
    "\n",
    "    def __call__(self, caller, ev):\n",
    "        rep = caller.GetRepresentation()\n",
    "        rep.GetPlane(self.plane)\n",
    "\n",
    "rep = vtk.vtkImplicitPlaneRepresentation()\n",
    "rep.SetPlaceFactor(1.25)\n",
    "rep.PlaceWidget(actor.GetBounds())\n",
    "rep.SetNormal(plane.GetNormal())\n",
    "\n",
    "\n",
    "ipw_callback = IPWCallback(plane)\n",
    "plane_widget = vtk.vtkImplicitPlaneWidget2()\n",
    "plane_widget.SetInteractor(iren)\n",
    "plane_widget.SetRepresentation(rep)\n",
    "plane_widget.AddObserver(vtkCommand.InteractionEvent, ipw_callback)\n",
    "plane_widget.On()"
   ]
  },
  {
   "cell_type": "code",
   "execution_count": 9,
   "metadata": {},
   "outputs": [],
   "source": [
    "# Run\n",
    "renderer.GetActiveCamera().Zoom(0.75)\n",
    "renderer.ResetCamera()\n",
    "iren.Initialize()\n",
    "ren_win.Render()\n",
    "iren.Start()"
   ]
  }
 ],
 "metadata": {
  "kernelspec": {
   "display_name": "Python 3 (ipykernel)",
   "language": "python",
   "name": "python3"
  },
  "language_info": {
   "codemirror_mode": {
    "name": "ipython",
    "version": 3
   },
   "file_extension": ".py",
   "mimetype": "text/x-python",
   "name": "python",
   "nbconvert_exporter": "python",
   "pygments_lexer": "ipython3",
   "version": "3.11.8"
  }
 },
 "nbformat": 4,
 "nbformat_minor": 4
}
